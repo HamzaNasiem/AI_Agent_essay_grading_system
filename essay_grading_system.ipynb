{
  "nbformat": 4,
  "nbformat_minor": 0,
  "metadata": {
    "colab": {
      "provenance": [],
      "authorship_tag": "ABX9TyMHfVrmSycWvZY2T32Ikv5U",
      "include_colab_link": true
    },
    "kernelspec": {
      "name": "python3",
      "display_name": "Python 3"
    },
    "language_info": {
      "name": "python"
    }
  },
  "cells": [
    {
      "cell_type": "markdown",
      "metadata": {
        "id": "view-in-github",
        "colab_type": "text"
      },
      "source": [
        "<a href=\"https://colab.research.google.com/github/HamzaNasiem/AI_Agent_essay_grading_system/blob/main/essay_grading_system.ipynb\" target=\"_parent\"><img src=\"https://colab.research.google.com/assets/colab-badge.svg\" alt=\"Open In Colab\"/></a>"
      ]
    },
    {
      "cell_type": "markdown",
      "source": [
        "# Essay Grading System using LangGraph"
      ],
      "metadata": {
        "id": "zhwuvlEqFyyg"
      }
    },
    {
      "cell_type": "code",
      "source": [
        "from google.colab import userdata\n",
        "import os\n",
        "\n",
        "os.environ[\"OPENAI_API_KEY\"] = userdata.get('OPENAI_API_KEY')\n"
      ],
      "metadata": {
        "id": "fwQDUYlzDcbm"
      },
      "execution_count": 40,
      "outputs": []
    },
    {
      "cell_type": "code",
      "execution_count": 41,
      "metadata": {
        "id": "rLol8roECeVy"
      },
      "outputs": [],
      "source": [
        "from typing import TypedDict, List\n",
        "from langgraph.graph import StateGraph, END\n",
        "from langchain_openai import ChatOpenAI\n",
        "from langchain_core.prompts import ChatPromptTemplate\n",
        "import os\n",
        "from dotenv import load_dotenv\n",
        "import re\n",
        "import logging\n",
        "\n",
        "# Load environment variables and set OpenAI API key\n",
        "load_dotenv()\n",
        "os.environ[\"OPENAI_API_KEY\"] = os.getenv('OPENAI_API_KEY')\n",
        "\n",
        "# Set up logging\n",
        "logging.basicConfig(level=logging.INFO)\n"
      ]
    },
    {
      "cell_type": "markdown",
      "source": [
        "# State Definition\n",
        "\n",
        "This cell defines the State class, which represents the state of our grading process."
      ],
      "metadata": {
        "id": "RrhTCkt3GFly"
      }
    },
    {
      "cell_type": "code",
      "source": [
        "class State(TypedDict):\n",
        "    \"\"\"Represents the state of the essay grading process.\"\"\"\n",
        "    essay: str\n",
        "    relevance_score: float\n",
        "    grammar_score: float\n",
        "    structure_score: float\n",
        "    depth_score: float\n",
        "    final_score: float"
      ],
      "metadata": {
        "id": "z8-hn3kODru2"
      },
      "execution_count": 42,
      "outputs": []
    },
    {
      "cell_type": "markdown",
      "source": [
        "# Language Model Initialization\n",
        "This cell initializes the ChatOpenAI model."
      ],
      "metadata": {
        "id": "JtOcUGDFGQ1X"
      }
    },
    {
      "cell_type": "code",
      "source": [
        "# Initialize the ChatOpenAI model\n",
        "llm = ChatOpenAI(model=\"gpt-4o-mini\")"
      ],
      "metadata": {
        "id": "A5-Xwkf8DzjE"
      },
      "execution_count": 43,
      "outputs": []
    },
    {
      "cell_type": "markdown",
      "source": [
        "# Grading Functions\n",
        "This cell defines the functions used in the grading process, including score extraction, individual grading components, and feedback generation.\n",
        "\n"
      ],
      "metadata": {
        "id": "f_z33WY4GYAA"
      }
    },
    {
      "cell_type": "code",
      "source": [
        "def extract_score(content: str) -> float:\n",
        "    \"\"\"Extract the numeric score from the LLM's response.\"\"\"\n",
        "    match = re.search(r'Score:\\s*(\\d+(\\.\\d+)?)', content)\n",
        "    if match:\n",
        "        return float(match.group(1))\n",
        "    raise ValueError(f\"Could not extract score from: {content}\")\n",
        "\n",
        "def check_relevance(state: State) -> State:\n",
        "    \"\"\"Check the relevance of the essay.\"\"\"\n",
        "    prompt = ChatPromptTemplate.from_template(\n",
        "        \"Analyze the relevance of the following essay to the given topic. \"\n",
        "        \"Provide a relevance score between 0 and 1. \"\n",
        "        \"Your response should start with 'Score: ' followed by the numeric score, \"\n",
        "        \"then provide your explanation.\\n\\nEssay: {essay}\"\n",
        "    )\n",
        "    result = llm.invoke(prompt.format(essay=state[\"essay\"]))\n",
        "    try:\n",
        "        state[\"relevance_score\"] = extract_score(result.content)\n",
        "    except ValueError as e:\n",
        "        print(f\"Error in check_relevance: {e}\")\n",
        "        state[\"relevance_score\"] = 0.0\n",
        "    return state\n",
        "\n",
        "def check_grammar(state: State) -> State:\n",
        "    \"\"\"Check the grammar of the essay.\"\"\"\n",
        "    prompt = ChatPromptTemplate.from_template(\n",
        "        \"Analyze the grammar and language usage in the following essay. \"\n",
        "        \"Provide a grammar score between 0 and 1. \"\n",
        "        \"Your response should start with 'Score: ' followed by the numeric score, \"\n",
        "        \"then provide your explanation.\\n\\nEssay: {essay}\"\n",
        "    )\n",
        "    result = llm.invoke(prompt.format(essay=state[\"essay\"]))\n",
        "    try:\n",
        "        state[\"grammar_score\"] = extract_score(result.content)\n",
        "    except ValueError as e:\n",
        "        print(f\"Error in check_grammar: {e}\")\n",
        "        state[\"grammar_score\"] = 0.0\n",
        "    return state\n",
        "\n",
        "def analyze_structure(state: State) -> State:\n",
        "    \"\"\"Analyze the structure of the essay.\"\"\"\n",
        "    prompt = ChatPromptTemplate.from_template(\n",
        "        \"Analyze the structure of the following essay. \"\n",
        "        \"Provide a structure score between 0 and 1. \"\n",
        "        \"Your response should start with 'Score: ' followed by the numeric score, \"\n",
        "        \"then provide your explanation.\\n\\nEssay: {essay}\"\n",
        "    )\n",
        "    result = llm.invoke(prompt.format(essay=state[\"essay\"]))\n",
        "    try:\n",
        "        state[\"structure_score\"] = extract_score(result.content)\n",
        "    except ValueError as e:\n",
        "        print(f\"Error in analyze_structure: {e}\")\n",
        "        state[\"structure_score\"] = 0.0\n",
        "    return state\n",
        "\n",
        "def evaluate_depth(state: State) -> State:\n",
        "    \"\"\"Evaluate the depth of analysis in the essay.\"\"\"\n",
        "    prompt = ChatPromptTemplate.from_template(\n",
        "        \"Evaluate the depth of analysis in the following essay. \"\n",
        "        \"Provide a depth score between 0 and 1. \"\n",
        "        \"Your response should start with 'Score: ' followed by the numeric score, \"\n",
        "        \"then provide your explanation.\\n\\nEssay: {essay}\"\n",
        "    )\n",
        "    result = llm.invoke(prompt.format(essay=state[\"essay\"]))\n",
        "    try:\n",
        "        state[\"depth_score\"] = extract_score(result.content)\n",
        "    except ValueError as e:\n",
        "        print(f\"Error in evaluate_depth: {e}\")\n",
        "        state[\"depth_score\"] = 0.0\n",
        "    return state\n",
        "\n",
        "def calculate_final_score(state: State) -> State:\n",
        "    \"\"\"Calculate the final score based on individual component scores.\"\"\"\n",
        "    state[\"final_score\"] = (\n",
        "        state[\"relevance_score\"] * 0.3 +\n",
        "        state[\"grammar_score\"] * 0.2 +\n",
        "        state[\"structure_score\"] * 0.2 +\n",
        "        state[\"depth_score\"] * 0.3\n",
        "    )\n",
        "    return state"
      ],
      "metadata": {
        "id": "yID4USJ4D2Bc"
      },
      "execution_count": 44,
      "outputs": []
    },
    {
      "cell_type": "markdown",
      "source": [
        "# Workflow Definition\n",
        "This cell defines the grading workflow using StateGraph."
      ],
      "metadata": {
        "id": "8bYQc7uhGd5o"
      }
    },
    {
      "cell_type": "code",
      "source": [
        "# Initialize the StateGraph\n",
        "workflow = StateGraph(State)\n",
        "\n",
        "# Add nodes to the graph\n",
        "workflow.add_node(\"check_relevance\", check_relevance)\n",
        "workflow.add_node(\"check_grammar\", check_grammar)\n",
        "workflow.add_node(\"analyze_structure\", analyze_structure)\n",
        "workflow.add_node(\"evaluate_depth\", evaluate_depth)\n",
        "workflow.add_node(\"calculate_final_score\", calculate_final_score)\n",
        "\n",
        "# Define and add conditional edges\n",
        "workflow.add_conditional_edges(\n",
        "    \"check_relevance\",\n",
        "    lambda x: \"check_grammar\" if x[\"relevance_score\"] > 0.5 else \"calculate_final_score\"\n",
        ")\n",
        "workflow.add_conditional_edges(\n",
        "    \"check_grammar\",\n",
        "    lambda x: \"analyze_structure\" if x[\"grammar_score\"] > 0.6 else \"calculate_final_score\"\n",
        ")\n",
        "workflow.add_conditional_edges(\n",
        "    \"analyze_structure\",\n",
        "    lambda x: \"evaluate_depth\" if x[\"structure_score\"] > 0.7 else \"calculate_final_score\"\n",
        ")\n",
        "workflow.add_conditional_edges(\n",
        "    \"evaluate_depth\",\n",
        "    lambda x: \"calculate_final_score\"\n",
        ")\n",
        "\n",
        "# Set the entry point\n",
        "workflow.set_entry_point(\"check_relevance\")\n",
        "\n",
        "# Set the exit point\n",
        "workflow.add_edge(\"calculate_final_score\", END)\n",
        "\n",
        "# Compile the graph\n",
        "app = workflow.compile()"
      ],
      "metadata": {
        "id": "wb5Kygs4D6_B"
      },
      "execution_count": 45,
      "outputs": []
    },
    {
      "cell_type": "markdown",
      "source": [
        "# Essay Grading Function\n",
        "This cell defines the main function to grade an essay using the defined workflow."
      ],
      "metadata": {
        "id": "S5VqoazHGizV"
      }
    },
    {
      "cell_type": "code",
      "source": [
        "def grade_essay(essay: str) -> dict:\n",
        "    \"\"\"Grade the given essay using the defined workflow.\"\"\"\n",
        "    initial_state = State(\n",
        "        essay=essay,\n",
        "        relevance_score=0.0,\n",
        "        grammar_score=0.0,\n",
        "        structure_score=0.0,\n",
        "        depth_score=0.0,\n",
        "        final_score=0.0\n",
        "    )\n",
        "    result = app.invoke(initial_state)\n",
        "    # Add feedback to the result dictionary\n",
        "    result['feedback'] = \"This is a placeholder for feedback.\" # Example feedback, replace with actual feedback generation logic\n",
        "    return result"
      ],
      "metadata": {
        "id": "mQzHTgj9EGFH"
      },
      "execution_count": 46,
      "outputs": []
    },
    {
      "cell_type": "markdown",
      "source": [
        "# Batch Grading Function\n",
        "This cell allows for grading multiple essays at once."
      ],
      "metadata": {
        "id": "uQKYoAatGxbr"
      }
    },
    {
      "cell_type": "code",
      "source": [
        "def grade_multiple_essays(essays: List[str]) -> List[dict]:\n",
        "    \"\"\"Grade a list of essays and return their results.\"\"\"\n",
        "    results = []\n",
        "    for essay in essays:\n",
        "        result = grade_essay(essay)\n",
        "        results.append(result)\n",
        "    return results\n"
      ],
      "metadata": {
        "id": "mGjf9YiGGzWs"
      },
      "execution_count": 47,
      "outputs": []
    },
    {
      "cell_type": "markdown",
      "source": [
        "# Example Usage\n",
        "This cell demonstrates how to use the grading system with example essays."
      ],
      "metadata": {
        "id": "8NiPvMQMG5zs"
      }
    },
    {
      "cell_type": "code",
      "source": [
        "# Essay lene ka function\n",
        "def get_user_input() -> str:\n",
        "    essay = input(\"Please enter your essay: \")\n",
        "    return essay\n",
        "\n",
        "# User se ek essay lein\n",
        "essay_to_grade = get_user_input()\n",
        "\n",
        "# Grade the essay\n",
        "graded_result = grade_essay(essay_to_grade)\n",
        "\n",
        "# Display the results\n",
        "print(\"Essay Results:\")\n",
        "print(f\"Relevance Score: {graded_result['relevance_score']}\")\n",
        "print(f\"Grammar Score: {graded_result['grammar_score']}\")\n",
        "print(f\"Structure Score: {graded_result['structure_score']}\")\n",
        "print(f\"Depth Score: {graded_result['depth_score']}\")\n",
        "print(f\"Final Score: {graded_result['final_score']}\")\n",
        "\n"
      ],
      "metadata": {
        "colab": {
          "base_uri": "https://localhost:8080/"
        },
        "id": "1HkBBVOVIR6c",
        "outputId": "1d146741-9b44-490f-e827-54ae1584e438"
      },
      "execution_count": 49,
      "outputs": [
        {
          "output_type": "stream",
          "name": "stdout",
          "text": [
            "Please enter your essay: The Apple: A Symbol of Health and Knowledge The apple, a small yet powerful fruit, holds a significant place in cultures and cuisines around the world. Known for its crisp texture and sweet-tart flavor, apples are not just a delightful snack; they are also rich in nutrients and have been associated with numerous health benefits. From ancient myths to modern science, the apple has been a symbol of health, knowledge, and temptation.  Nutritional Value Apples are a great source of vitamins, particularly vitamin C, which is essential for immune function and skin health. They also contain dietary fiber, which aids in digestion and helps maintain a healthy weight. Eating apples regularly has been linked to a reduced risk of chronic diseases such as heart disease and diabetes. The antioxidants found in apples, including quercetin and flavonoids, help protect the body from oxidative stress and inflammation.  Cultural Significance Throughout history, apples have been intertwined with mythology and folklore. In Greek mythology, apples were associated with love and beauty. The Golden Apple of Discord, which sparked the Trojan War, symbolizes how something seemingly innocent can lead to chaos. In the Bible, the apple is often depicted as the forbidden fruit in the Garden of Eden, representing knowledge and temptation. This rich cultural symbolism adds depth to the simple fruit, transforming it into a metaphor for human experiences and desires.  Culinary Versatility In the culinary world, apples are incredibly versatile. They can be enjoyed raw, baked, or cooked. Apple pie, cider, and applesauce are just a few examples of how this fruit is used in various dishes. The ability of apples to pair well with both sweet and savory ingredients makes them a staple in many kitchens. Additionally, different varieties of apples, such as Granny Smith, Fuji, and Honeycrisp, offer distinct flavors and textures, appealing to a wide range of palates.  Environmental Impact The cultivation of apples also has environmental implications. Apple orchards can provide habitats for various species and contribute to biodiversity. However, commercial apple farming often involves the use of pesticides and fertilizers, which can negatively impact local ecosystems. Sustainable farming practices, such as organic apple production, are gaining traction and promote a healthier environment while providing consumers with high-quality fruit.  Conclusion In conclusion, apples are much more than just a tasty snack. They are a symbol of health, wisdom, and versatility. Their rich nutritional profile, cultural significance, culinary applications, and environmental considerations make apples a fruit worth celebrating. As we continue to explore the many facets of this remarkable fruit, it is clear that the apple will remain an essential part of our lives for generations to come.\n",
            "Essay Results:\n",
            "Relevance Score: 0.9\n",
            "Grammar Score: 0.95\n",
            "Structure Score: 0.9\n",
            "Depth Score: 0.7\n",
            "Final Score: 0.85\n"
          ]
        }
      ]
    }
  ]
}